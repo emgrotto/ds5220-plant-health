{
 "cells": [
  {
   "cell_type": "code",
   "execution_count": 59,
   "metadata": {},
   "outputs": [],
   "source": [
    "import numpy as np\n",
    "import pandas as pd\n",
    "from sklearn.metrics import confusion_matrix, ConfusionMatrixDisplay"
   ]
  },
  {
   "cell_type": "code",
   "execution_count": 32,
   "metadata": {},
   "outputs": [
    {
     "data": {
      "text/plain": [
       "(1000, 7)"
      ]
     },
     "execution_count": 32,
     "metadata": {},
     "output_type": "execute_result"
    }
   ],
   "source": [
    "plant_data = pd.read_csv(\"data/plant_moniter_health_data.csv\")\n",
    "plant_data = plant_data.drop([\"Plant_ID\", \"Health_Score\"],axis=1)\n",
    "plant_data = plant_data.dropna()\n",
    "plant_data.shape"
   ]
  },
  {
   "cell_type": "markdown",
   "metadata": {},
   "source": [
    "### Classification Decision Tree\n",
    "\n",
    "We used recursion to build a decision tree. The Algorithm chooses which vairable to use and what point as the split. For each decision it then calls itself with the data before the split and the data after the split. At each step it needs to evaluate whether its reached the stopping point based on:\n",
    "* If it has reached the tree depth, d\n",
    "* if the size of the dataset has reached a specific minimum size, min_n, aka node size\n",
    "* all observations belong to the same class\n",
    "\n",
    "Each found region in the input space will associate with a class of the response variable.\n",
    "\n",
    "This algorithm is a greedy approach as at each decision call it will choose the variable best for splitting the input data. So therefore may not find the optimal tree. For each decision it:\n",
    "* iterates: for each variable, find a splitting point that maximizes the difference between the mean y of the splits (as in where classes are most separated). (ESL Eq 9.17) Alternatively we could use the gini index or entropy to find the split.\n",
    "* (regression - did not do this) choose the variable with the smallest sum of squares (ESL Eq 9.13) This can be calculated by finding the mean response y in each region and finding $y_reg - y_avg$. This is derived from (ESL Eq 9.14). The intention here is to have a region such that most of the observations in that region belong in the same class.\n",
    "* (classification) Choose the variable that maximizes the split.\n",
    "\n",
    "\n"
   ]
  },
  {
   "cell_type": "code",
   "execution_count": 65,
   "metadata": {},
   "outputs": [],
   "source": [
    "\n",
    "class DecisionTree():\n",
    "    def __init__(self, max_depth: int = 5, current_depth: int = 0, minimum_node_size: int = 5, label: int = None):\n",
    "        \n",
    "        self.max_depth = max_depth\n",
    "        self.current_depth = current_depth\n",
    "        self.minimum_node_size = minimum_node_size\n",
    "        \n",
    "        if self.max_depth == 0:\n",
    "            raise Exception(\"Max Depth = 0 is an invalid input\")\n",
    "        \n",
    "        self.missclassification = None\n",
    "        self.label = label\n",
    "        self.left_tree = None\n",
    "        self.right_tree = None\n",
    "        self.split_variable = None\n",
    "        self.split_value = None\n",
    "        \n",
    "    def _find_best_split(self, X, Y):\n",
    "        best_missclassification = float(\"-inf\")\n",
    "        best_split_variable = None\n",
    "        best_split_value = None\n",
    "        labels = None\n",
    "        \n",
    "        for variable in range(X.shape[1]):\n",
    "            var_values = X.iloc[:, variable].unique()\n",
    "            var_values.sort()\n",
    "            for val in var_values[self.minimum_node_size: -self.minimum_node_size]:\n",
    "                smaller_than_val = Y[X.iloc[:, variable] < val]\n",
    "                greater_than_val = Y[X.iloc[:, variable] >= val]\n",
    "                if smaller_than_val.shape[0] == 0 or greater_than_val.shape[0] == 0:\n",
    "                    continue\n",
    "                # difference in the means of the 2 classes. This diffierence should be maximized\n",
    "                missclassification = np.abs(np.mean(smaller_than_val) - np.mean(greater_than_val))\n",
    "                if missclassification > best_missclassification:\n",
    "                    best_missclassification = missclassification\n",
    "                    best_split_variable = variable\n",
    "                    best_split_value = val\n",
    "                    if np.mean(smaller_than_val) - np.mean(greater_than_val) < 0:\n",
    "                        labels = [0, 1]\n",
    "                    else:\n",
    "                        labels = [1, 0]\n",
    "   \n",
    "        return best_split_variable, best_split_value, labels\n",
    "        \n",
    "    def fit(self, X, Y):\n",
    "        if self.current_depth >= self.max_depth:\n",
    "            return None\n",
    "        if X.shape[0] <= self.minimum_node_size:\n",
    "            return None \n",
    "\n",
    "        if self.label is None:\n",
    "            self.label = 0 if np.mean(Y) < 0.5 else 1\n",
    "        self.missclassification = np.abs(np.mean(Y) - self.label)\n",
    "        if self.missclassification == 0:\n",
    "            return self\n",
    "        \n",
    "        self.split_variable, self.split_value, labels = self._find_best_split(X, Y)\n",
    "        \n",
    "        if self.split_variable is None:\n",
    "            return self\n",
    "        \n",
    "        smaller_than_val = X[X.iloc[:, self.split_variable] < self.split_value]\n",
    "        greater_than_val = X[X.iloc[:, self.split_variable] >= self.split_value]\n",
    "        smaller_than_val_Y = Y[X.iloc[:, self.split_variable] < self.split_value]\n",
    "        greater_than_val_Y = Y[X.iloc[:, self.split_variable] >= self.split_value]\n",
    "        \n",
    "        left_tree = DecisionTree(\n",
    "            max_depth=self.max_depth, \n",
    "            current_depth=self.current_depth + 1, \n",
    "            minimum_node_size=self.minimum_node_size,\n",
    "            label =labels[0],\n",
    "            ).fit(smaller_than_val, smaller_than_val_Y)\n",
    "        right_tree = DecisionTree(\n",
    "            max_depth=self.max_depth, \n",
    "            current_depth=self.current_depth + 1, \n",
    "            minimum_node_size=self.minimum_node_size,\n",
    "            label =labels[1],\n",
    "            ).fit(greater_than_val, greater_than_val_Y)\n",
    "        \n",
    "        if left_tree and right_tree:\n",
    "            self.left_tree = left_tree.fit(smaller_than_val, smaller_than_val_Y)\n",
    "            self.right_tree = right_tree.fit(greater_than_val, greater_than_val_Y)\n",
    "        \n",
    "        return self\n",
    "    \n",
    "    def _prediction_find(self, X):\n",
    "        if self.left_tree is None:\n",
    "            return self.label\n",
    "        if X.iloc[self.split_variable] < self.split_value:\n",
    "            return self.left_tree._prediction_find(X)\n",
    "        else:\n",
    "            return self.right_tree._prediction_find(X)\n",
    "        \n",
    "    def predict(self, newdata):\n",
    "        predictions = []\n",
    "        for i in range(newdata.shape[0]):\n",
    "            predictions.append(self._prediction_find(newdata.iloc[i, :-1]))\n",
    "        predictions = np.array(predictions)\n",
    "        return predictions\n",
    "    \n",
    "        \n",
    "        "
   ]
  },
  {
   "cell_type": "code",
   "execution_count": 66,
   "metadata": {},
   "outputs": [
    {
     "data": {
      "text/plain": [
       "<__main__.DecisionTree at 0x30ad80c50>"
      ]
     },
     "execution_count": 66,
     "metadata": {},
     "output_type": "execute_result"
    }
   ],
   "source": [
    "train_num = int(plant_data.shape[0]*0.75)\n",
    "\n",
    "train_i = np.random.choice(plant_data.shape[0], train_num, replace=False)\n",
    "train_data = plant_data.iloc[train_i, :]\n",
    "test_data = plant_data.drop(train_i, axis=0)\n",
    "\n",
    "decision_tree = DecisionTree(max_depth=5, minimum_node_size=5)\n",
    "decision_tree.fit(train_data.iloc[:, :-1], train_data.iloc[:, -1])\n"
   ]
  },
  {
   "cell_type": "code",
   "execution_count": 67,
   "metadata": {},
   "outputs": [
    {
     "data": {
      "text/plain": [
       "<sklearn.metrics._plot.confusion_matrix.ConfusionMatrixDisplay at 0x30aeccd90>"
      ]
     },
     "execution_count": 67,
     "metadata": {},
     "output_type": "execute_result"
    },
    {
     "data": {
      "image/png": "[encoded data removed]",
      "text/plain": [
       "<Figure size 640x480 with 2 Axes>"
      ]
     },
     "metadata": {},
     "output_type": "display_data"
    }
   ],
   "source": [
    "predictions = decision_tree.predict(test_data.iloc[:, :-1])\n",
    "\n",
    "cm = confusion_matrix(test_data.iloc[:, -1], predictions, labels=[0, 1])\n",
    "disp = ConfusionMatrixDisplay(confusion_matrix=cm,\n",
    "                              display_labels=[0, 1])\n",
    "disp.plot()"
   ]
  },
  {
   "cell_type": "code",
   "execution_count": 68,
   "metadata": {},
   "outputs": [
    {
     "data": {
      "text/plain": [
       "0.852"
      ]
     },
     "execution_count": 68,
     "metadata": {},
     "output_type": "execute_result"
    }
   ],
   "source": [
    "compare = pd.DataFrame({\"Actual\": test_data.iloc[:, -1], \"Predicted\": predictions})\n",
    "compare[\"Correct\"] = compare[\"Actual\"] == compare[\"Predicted\"]\n",
    "np.mean(compare[\"Correct\"])"
   ]
  }
 ],
 "metadata": {
  "kernelspec": {
   "display_name": "base",
   "language": "python",
   "name": "python3"
  },
  "language_info": {
   "codemirror_mode": {
    "name": "ipython",
    "version": 3
   },
   "file_extension": ".py",
   "mimetype": "text/x-python",
   "name": "python",
   "nbconvert_exporter": "python",
   "pygments_lexer": "ipython3",
   "version": "3.11.5"
  }
 },
 "nbformat": 4,
 "nbformat_minor": 2
}
